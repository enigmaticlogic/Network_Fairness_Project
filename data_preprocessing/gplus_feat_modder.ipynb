{
 "cells": [
  {
   "cell_type": "code",
   "execution_count": null,
   "metadata": {},
   "outputs": [],
   "source": [
    "import os\n",
    "\n",
    "def create_new_featfiles(data_dir):\n",
    "    fea_list = []\n",
    "    for file in os.listdir(data_dir):\n",
    "        if file.endswith('.featnames'):\n",
    "            \n",
    "            with open(data_dir+file) as opened_file:\n",
    "                file_lines = opened_file.readlines()\n",
    "        \n",
    "            for line in file_lines:\n",
    "                split_line = line.split()\n",
    "                fea_str = ''.join(split_line[1:])\n",
    "                fea_list.append(fea_str)\n",
    "            \n",
    "    unique_fea_list = list(set(fea_list))\n",
    "    \n",
    "    for file in os.listdir(data_dir):\n",
    "        if file.endswith('.featnames'):\n",
    "            new_file_lines = []\n",
    "        \n",
    "            with open(data_dir+file) as opened_file:\n",
    "                file_lines = opened_file.readlines()\n",
    "        \n",
    "            for line in file_lines:\n",
    "                split_line = line.split()\n",
    "                test_str = ''.join(split_line[1:])\n",
    "                for i in range(len(unique_fea_list)):\n",
    "                    if test_str == unique_fea_list[i]:\n",
    "                        new_line = split_line[0] + ' ' + test_str + '  X  ' + str(i)\n",
    "                        new_file_lines.append(new_line)\n",
    "            print(len(new_file_lines))\n",
    "            print(len(file_lines))\n",
    "            if len(new_file_lines) == len(file_lines):\n",
    "                with open(file, 'w') as outfile:\n",
    "                    for line in new_file_lines:\n",
    "                        outfile.write('%s\\n' % line)            \n",
    "\n",
    "create_new_featfiles('gplus/')"
   ]
  }
 ],
 "metadata": {
  "kernelspec": {
   "display_name": "Python 3",
   "language": "python",
   "name": "python3"
  },
  "language_info": {
   "codemirror_mode": {
    "name": "ipython",
    "version": 3
   },
   "file_extension": ".py",
   "mimetype": "text/x-python",
   "name": "python",
   "nbconvert_exporter": "python",
   "pygments_lexer": "ipython3",
   "version": "3.7.4"
  }
 },
 "nbformat": 4,
 "nbformat_minor": 2
}
